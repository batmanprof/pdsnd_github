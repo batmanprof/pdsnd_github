{
 "cells": [
  {
   "cell_type": "markdown",
   "metadata": {},
   "source": [
    "### Explore Bike Share Data\n",
    "\n",
    "For this project, your goal is to ask and answer three questions about the available bikeshare data from Washington, Chicago, and New York.  This notebook can be submitted directly through the workspace when you are confident in your results.\n",
    "\n",
    "You will be graded against the project [Rubric](https://review.udacity.com/#!/rubrics/2508/view) by a mentor after you have submitted.  To get you started, you can use the template below, but feel free to be creative in your solutions!\n",
    "\n",
    "[Link](https://eu.udacity.com/course/programming-for-data-science-nanodegree--nd104) to the Programming for Data Science with RNano Degree."
   ]
  },
  {
   "cell_type": "code",
   "execution_count": 1,
   "metadata": {
    "collapsed": true
   },
   "outputs": [],
   "source": [
    "ny = read.csv('new_york_city.csv')\n",
    "wash = read.csv('washington.csv')\n",
    "chi = read.csv('chicago.csv')"
   ]
  },
  {
   "cell_type": "code",
   "execution_count": 2,
   "metadata": {},
   "outputs": [
    {
     "data": {
      "text/html": [
       "<table>\n",
       "<thead><tr><th scope=col>X</th><th scope=col>Start.Time</th><th scope=col>End.Time</th><th scope=col>Trip.Duration</th><th scope=col>Start.Station</th><th scope=col>End.Station</th><th scope=col>User.Type</th><th scope=col>Gender</th><th scope=col>Birth.Year</th></tr></thead>\n",
       "<tbody>\n",
       "\t<tr><td>5688089                                       </td><td>2017-06-11 14:55:05                           </td><td>2017-06-11 15:08:21                           </td><td> 795                                          </td><td>Suffolk St &amp; Stanton St                   </td><td>W Broadway &amp; Spring St                    </td><td>Subscriber                                    </td><td><span style=white-space:pre-wrap>Male  </span></td><td>1998                                          </td></tr>\n",
       "\t<tr><td>4096714                                                           </td><td>2017-05-11 15:30:11                                               </td><td>2017-05-11 15:41:43                                               </td><td> 692                                                              </td><td>Lexington Ave &amp; E 63 St                                       </td><td><span style=white-space:pre-wrap>1 Ave &amp; E 78 St       </span></td><td>Subscriber                                                        </td><td><span style=white-space:pre-wrap>Male  </span>                    </td><td>1981                                                              </td></tr>\n",
       "\t<tr><td>2173887                                                            </td><td>2017-03-29 13:26:26                                                </td><td>2017-03-29 13:48:31                                                </td><td>1325                                                               </td><td><span style=white-space:pre-wrap>1 Pl &amp; Clinton St      </span></td><td><span style=white-space:pre-wrap>Henry St &amp; Degraw St  </span> </td><td>Subscriber                                                         </td><td><span style=white-space:pre-wrap>Male  </span>                     </td><td>1987                                                               </td></tr>\n",
       "\t<tr><td>3945638                                                            </td><td>2017-05-08 19:47:18                                                </td><td>2017-05-08 19:59:01                                                </td><td> 703                                                               </td><td><span style=white-space:pre-wrap>Barrow St &amp; Hudson St  </span></td><td><span style=white-space:pre-wrap>W 20 St &amp; 8 Ave       </span> </td><td>Subscriber                                                         </td><td>Female                                                             </td><td>1986                                                               </td></tr>\n",
       "\t<tr><td>6208972                                                            </td><td>2017-06-21 07:49:16                                                </td><td>2017-06-21 07:54:46                                                </td><td> 329                                                               </td><td><span style=white-space:pre-wrap>1 Ave &amp; E 44 St        </span></td><td><span style=white-space:pre-wrap>E 53 St &amp; 3 Ave       </span> </td><td>Subscriber                                                         </td><td><span style=white-space:pre-wrap>Male  </span>                     </td><td>1992                                                               </td></tr>\n",
       "\t<tr><td>1285652                                                            </td><td>2017-02-22 18:55:24                                                </td><td>2017-02-22 19:12:03                                                </td><td> 998                                                               </td><td><span style=white-space:pre-wrap>State St &amp; Smith St    </span></td><td><span style=white-space:pre-wrap>Bond St &amp; Fulton St   </span> </td><td>Subscriber                                                         </td><td><span style=white-space:pre-wrap>Male  </span>                     </td><td>1986                                                               </td></tr>\n",
       "</tbody>\n",
       "</table>\n"
      ],
      "text/latex": [
       "\\begin{tabular}{r|lllllllll}\n",
       " X & Start.Time & End.Time & Trip.Duration & Start.Station & End.Station & User.Type & Gender & Birth.Year\\\\\n",
       "\\hline\n",
       "\t 5688089                   & 2017-06-11 14:55:05       & 2017-06-11 15:08:21       &  795                      & Suffolk St \\& Stanton St & W Broadway \\& Spring St  & Subscriber                & Male                      & 1998                     \\\\\n",
       "\t 4096714                   & 2017-05-11 15:30:11       & 2017-05-11 15:41:43       &  692                      & Lexington Ave \\& E 63 St & 1 Ave \\& E 78 St         & Subscriber                & Male                      & 1981                     \\\\\n",
       "\t 2173887                   & 2017-03-29 13:26:26       & 2017-03-29 13:48:31       & 1325                      & 1 Pl \\& Clinton St       & Henry St \\& Degraw St    & Subscriber                & Male                      & 1987                     \\\\\n",
       "\t 3945638                   & 2017-05-08 19:47:18       & 2017-05-08 19:59:01       &  703                      & Barrow St \\& Hudson St   & W 20 St \\& 8 Ave         & Subscriber                & Female                    & 1986                     \\\\\n",
       "\t 6208972                   & 2017-06-21 07:49:16       & 2017-06-21 07:54:46       &  329                      & 1 Ave \\& E 44 St         & E 53 St \\& 3 Ave         & Subscriber                & Male                      & 1992                     \\\\\n",
       "\t 1285652                   & 2017-02-22 18:55:24       & 2017-02-22 19:12:03       &  998                      & State St \\& Smith St     & Bond St \\& Fulton St     & Subscriber                & Male                      & 1986                     \\\\\n",
       "\\end{tabular}\n"
      ],
      "text/markdown": [
       "\n",
       "| X | Start.Time | End.Time | Trip.Duration | Start.Station | End.Station | User.Type | Gender | Birth.Year |\n",
       "|---|---|---|---|---|---|---|---|---|\n",
       "| 5688089                 | 2017-06-11 14:55:05     | 2017-06-11 15:08:21     |  795                    | Suffolk St & Stanton St | W Broadway & Spring St  | Subscriber              | Male                    | 1998                    |\n",
       "| 4096714                 | 2017-05-11 15:30:11     | 2017-05-11 15:41:43     |  692                    | Lexington Ave & E 63 St | 1 Ave & E 78 St         | Subscriber              | Male                    | 1981                    |\n",
       "| 2173887                 | 2017-03-29 13:26:26     | 2017-03-29 13:48:31     | 1325                    | 1 Pl & Clinton St       | Henry St & Degraw St    | Subscriber              | Male                    | 1987                    |\n",
       "| 3945638                 | 2017-05-08 19:47:18     | 2017-05-08 19:59:01     |  703                    | Barrow St & Hudson St   | W 20 St & 8 Ave         | Subscriber              | Female                  | 1986                    |\n",
       "| 6208972                 | 2017-06-21 07:49:16     | 2017-06-21 07:54:46     |  329                    | 1 Ave & E 44 St         | E 53 St & 3 Ave         | Subscriber              | Male                    | 1992                    |\n",
       "| 1285652                 | 2017-02-22 18:55:24     | 2017-02-22 19:12:03     |  998                    | State St & Smith St     | Bond St & Fulton St     | Subscriber              | Male                    | 1986                    |\n",
       "\n"
      ],
      "text/plain": [
       "  X       Start.Time          End.Time            Trip.Duration\n",
       "1 5688089 2017-06-11 14:55:05 2017-06-11 15:08:21  795         \n",
       "2 4096714 2017-05-11 15:30:11 2017-05-11 15:41:43  692         \n",
       "3 2173887 2017-03-29 13:26:26 2017-03-29 13:48:31 1325         \n",
       "4 3945638 2017-05-08 19:47:18 2017-05-08 19:59:01  703         \n",
       "5 6208972 2017-06-21 07:49:16 2017-06-21 07:54:46  329         \n",
       "6 1285652 2017-02-22 18:55:24 2017-02-22 19:12:03  998         \n",
       "  Start.Station           End.Station            User.Type  Gender Birth.Year\n",
       "1 Suffolk St & Stanton St W Broadway & Spring St Subscriber Male   1998      \n",
       "2 Lexington Ave & E 63 St 1 Ave & E 78 St        Subscriber Male   1981      \n",
       "3 1 Pl & Clinton St       Henry St & Degraw St   Subscriber Male   1987      \n",
       "4 Barrow St & Hudson St   W 20 St & 8 Ave        Subscriber Female 1986      \n",
       "5 1 Ave & E 44 St         E 53 St & 3 Ave        Subscriber Male   1992      \n",
       "6 State St & Smith St     Bond St & Fulton St    Subscriber Male   1986      "
      ]
     },
     "metadata": {},
     "output_type": "display_data"
    }
   ],
   "source": [
    "head(ny)"
   ]
  },
  {
   "cell_type": "code",
   "execution_count": 3,
   "metadata": {},
   "outputs": [
    {
     "data": {
      "text/html": [
       "<table>\n",
       "<thead><tr><th scope=col>X</th><th scope=col>Start.Time</th><th scope=col>End.Time</th><th scope=col>Trip.Duration</th><th scope=col>Start.Station</th><th scope=col>End.Station</th><th scope=col>User.Type</th></tr></thead>\n",
       "<tbody>\n",
       "\t<tr><td>1621326                                                                                        </td><td>2017-06-21 08:36:34                                                                            </td><td>2017-06-21 08:44:43                                                                            </td><td> 489.066                                                                                       </td><td><span style=white-space:pre-wrap>14th &amp; Belmont St NW                       </span>        </td><td><span style=white-space:pre-wrap>15th &amp; K St NW                                     </span></td><td>Subscriber                                                                                     </td></tr>\n",
       "\t<tr><td> 482740                                                                                        </td><td>2017-03-11 10:40:00                                                                            </td><td>2017-03-11 10:46:00                                                                            </td><td> 402.549                                                                                       </td><td><span style=white-space:pre-wrap>Yuma St &amp; Tenley Circle NW                 </span>        </td><td><span style=white-space:pre-wrap>Connecticut Ave &amp; Yuma St NW                       </span></td><td>Subscriber                                                                                     </td></tr>\n",
       "\t<tr><td>1330037                                                                                        </td><td>2017-05-30 01:02:59                                                                            </td><td>2017-05-30 01:13:37                                                                            </td><td> 637.251                                                                                       </td><td><span style=white-space:pre-wrap>17th St &amp; Massachusetts Ave NW             </span>        </td><td><span style=white-space:pre-wrap>5th &amp; K St NW                                      </span></td><td>Subscriber                                                                                     </td></tr>\n",
       "\t<tr><td> 665458                                                                                        </td><td>2017-04-02 07:48:35                                                                            </td><td>2017-04-02 08:19:03                                                                            </td><td>1827.341                                                                                       </td><td><span style=white-space:pre-wrap>Constitution Ave &amp; 2nd St NW/DOL           </span>        </td><td><span style=white-space:pre-wrap>M St &amp; Pennsylvania Ave NW                         </span></td><td><span style=white-space:pre-wrap>Customer  </span>                                             </td></tr>\n",
       "\t<tr><td>1481135                                                                                        </td><td>2017-06-10 08:36:28                                                                            </td><td>2017-06-10 09:02:17                                                                            </td><td>1549.427                                                                                       </td><td>Henry Bacon Dr &amp; Lincoln Memorial Circle NW                                                </td><td><span style=white-space:pre-wrap>Maine Ave &amp; 7th St SW                              </span></td><td>Subscriber                                                                                     </td></tr>\n",
       "\t<tr><td>1148202                                                                                </td><td>2017-05-14 07:18:18                                                                    </td><td>2017-05-14 07:24:56                                                                    </td><td> 398.000                                                                               </td><td><span style=white-space:pre-wrap>1st &amp; K St SE                              </span></td><td>Eastern Market Metro / Pennsylvania Ave &amp; 7th St SE                                </td><td>Subscriber                                                                             </td></tr>\n",
       "</tbody>\n",
       "</table>\n"
      ],
      "text/latex": [
       "\\begin{tabular}{r|lllllll}\n",
       " X & Start.Time & End.Time & Trip.Duration & Start.Station & End.Station & User.Type\\\\\n",
       "\\hline\n",
       "\t 1621326                                               & 2017-06-21 08:36:34                                   & 2017-06-21 08:44:43                                   &  489.066                                              & 14th \\& Belmont St NW                                & 15th \\& K St NW                                      & Subscriber                                           \\\\\n",
       "\t  482740                                               & 2017-03-11 10:40:00                                   & 2017-03-11 10:46:00                                   &  402.549                                              & Yuma St \\& Tenley Circle NW                          & Connecticut Ave \\& Yuma St NW                        & Subscriber                                           \\\\\n",
       "\t 1330037                                               & 2017-05-30 01:02:59                                   & 2017-05-30 01:13:37                                   &  637.251                                              & 17th St \\& Massachusetts Ave NW                      & 5th \\& K St NW                                       & Subscriber                                           \\\\\n",
       "\t  665458                                               & 2017-04-02 07:48:35                                   & 2017-04-02 08:19:03                                   & 1827.341                                              & Constitution Ave \\& 2nd St NW/DOL                    & M St \\& Pennsylvania Ave NW                          & Customer                                             \\\\\n",
       "\t 1481135                                               & 2017-06-10 08:36:28                                   & 2017-06-10 09:02:17                                   & 1549.427                                              & Henry Bacon Dr \\& Lincoln Memorial Circle NW         & Maine Ave \\& 7th St SW                               & Subscriber                                           \\\\\n",
       "\t 1148202                                               & 2017-05-14 07:18:18                                   & 2017-05-14 07:24:56                                   &  398.000                                              & 1st \\& K St SE                                       & Eastern Market Metro / Pennsylvania Ave \\& 7th St SE & Subscriber                                           \\\\\n",
       "\\end{tabular}\n"
      ],
      "text/markdown": [
       "\n",
       "| X | Start.Time | End.Time | Trip.Duration | Start.Station | End.Station | User.Type |\n",
       "|---|---|---|---|---|---|---|\n",
       "| 1621326                                             | 2017-06-21 08:36:34                                 | 2017-06-21 08:44:43                                 |  489.066                                            | 14th & Belmont St NW                                | 15th & K St NW                                      | Subscriber                                          |\n",
       "|  482740                                             | 2017-03-11 10:40:00                                 | 2017-03-11 10:46:00                                 |  402.549                                            | Yuma St & Tenley Circle NW                          | Connecticut Ave & Yuma St NW                        | Subscriber                                          |\n",
       "| 1330037                                             | 2017-05-30 01:02:59                                 | 2017-05-30 01:13:37                                 |  637.251                                            | 17th St & Massachusetts Ave NW                      | 5th & K St NW                                       | Subscriber                                          |\n",
       "|  665458                                             | 2017-04-02 07:48:35                                 | 2017-04-02 08:19:03                                 | 1827.341                                            | Constitution Ave & 2nd St NW/DOL                    | M St & Pennsylvania Ave NW                          | Customer                                            |\n",
       "| 1481135                                             | 2017-06-10 08:36:28                                 | 2017-06-10 09:02:17                                 | 1549.427                                            | Henry Bacon Dr & Lincoln Memorial Circle NW         | Maine Ave & 7th St SW                               | Subscriber                                          |\n",
       "| 1148202                                             | 2017-05-14 07:18:18                                 | 2017-05-14 07:24:56                                 |  398.000                                            | 1st & K St SE                                       | Eastern Market Metro / Pennsylvania Ave & 7th St SE | Subscriber                                          |\n",
       "\n"
      ],
      "text/plain": [
       "  X       Start.Time          End.Time            Trip.Duration\n",
       "1 1621326 2017-06-21 08:36:34 2017-06-21 08:44:43  489.066     \n",
       "2  482740 2017-03-11 10:40:00 2017-03-11 10:46:00  402.549     \n",
       "3 1330037 2017-05-30 01:02:59 2017-05-30 01:13:37  637.251     \n",
       "4  665458 2017-04-02 07:48:35 2017-04-02 08:19:03 1827.341     \n",
       "5 1481135 2017-06-10 08:36:28 2017-06-10 09:02:17 1549.427     \n",
       "6 1148202 2017-05-14 07:18:18 2017-05-14 07:24:56  398.000     \n",
       "  Start.Station                              \n",
       "1 14th & Belmont St NW                       \n",
       "2 Yuma St & Tenley Circle NW                 \n",
       "3 17th St & Massachusetts Ave NW             \n",
       "4 Constitution Ave & 2nd St NW/DOL           \n",
       "5 Henry Bacon Dr & Lincoln Memorial Circle NW\n",
       "6 1st & K St SE                              \n",
       "  End.Station                                         User.Type \n",
       "1 15th & K St NW                                      Subscriber\n",
       "2 Connecticut Ave & Yuma St NW                        Subscriber\n",
       "3 5th & K St NW                                       Subscriber\n",
       "4 M St & Pennsylvania Ave NW                          Customer  \n",
       "5 Maine Ave & 7th St SW                               Subscriber\n",
       "6 Eastern Market Metro / Pennsylvania Ave & 7th St SE Subscriber"
      ]
     },
     "metadata": {},
     "output_type": "display_data"
    }
   ],
   "source": [
    "head(wash)"
   ]
  },
  {
   "cell_type": "code",
   "execution_count": 4,
   "metadata": {},
   "outputs": [
    {
     "data": {
      "text/html": [
       "<table>\n",
       "<thead><tr><th scope=col>X</th><th scope=col>Start.Time</th><th scope=col>End.Time</th><th scope=col>Trip.Duration</th><th scope=col>Start.Station</th><th scope=col>End.Station</th><th scope=col>User.Type</th><th scope=col>Gender</th><th scope=col>Birth.Year</th></tr></thead>\n",
       "<tbody>\n",
       "\t<tr><td>1423854                                                                  </td><td>2017-06-23 15:09:32                                                      </td><td>2017-06-23 15:14:53                                                      </td><td> 321                                                                     </td><td><span style=white-space:pre-wrap>Wood St &amp; Hubbard St         </span></td><td><span style=white-space:pre-wrap>Damen Ave &amp; Chicago Ave     </span> </td><td>Subscriber                                                               </td><td><span style=white-space:pre-wrap>Male  </span>                           </td><td>1992                                                                     </td></tr>\n",
       "\t<tr><td> 955915                                                              </td><td>2017-05-25 18:19:03                                                  </td><td>2017-05-25 18:45:53                                                  </td><td>1610                                                                 </td><td><span style=white-space:pre-wrap>Theater on the Lake          </span></td><td>Sheffield Ave &amp; Waveland Ave                                     </td><td>Subscriber                                                           </td><td>Female                                                               </td><td>1992                                                                 </td></tr>\n",
       "\t<tr><td><span style=white-space:pre-wrap>   9031</span>                          </td><td>2017-01-04 08:27:49                                                      </td><td>2017-01-04 08:34:45                                                      </td><td> 416                                                                     </td><td><span style=white-space:pre-wrap>May St &amp; Taylor St           </span></td><td><span style=white-space:pre-wrap>Wood St &amp; Taylor St         </span> </td><td>Subscriber                                                               </td><td><span style=white-space:pre-wrap>Male  </span>                           </td><td>1981                                                                     </td></tr>\n",
       "\t<tr><td> 304487                                       </td><td>2017-03-06 13:49:38                           </td><td>2017-03-06 13:55:28                           </td><td> 350                                          </td><td>Christiana Ave &amp; Lawrence Ave             </td><td>St. Louis Ave &amp; Balmoral Ave              </td><td>Subscriber                                    </td><td><span style=white-space:pre-wrap>Male  </span></td><td>1986                                          </td></tr>\n",
       "\t<tr><td><span style=white-space:pre-wrap>  45207</span>                          </td><td>2017-01-17 14:53:07                                                      </td><td>2017-01-17 15:02:01                                                      </td><td> 534                                                                     </td><td><span style=white-space:pre-wrap>Clark St &amp; Randolph St       </span></td><td>Desplaines St &amp; Jackson Blvd                                         </td><td>Subscriber                                                               </td><td><span style=white-space:pre-wrap>Male  </span>                           </td><td>1975                                                                     </td></tr>\n",
       "\t<tr><td>1473887                                                                 </td><td>2017-06-26 09:01:20                                                     </td><td>2017-06-26 09:11:06                                                     </td><td> 586                                                                    </td><td>Clinton St &amp; Washington Blvd                                        </td><td><span style=white-space:pre-wrap>Canal St &amp; Taylor St        </span></td><td>Subscriber                                                              </td><td><span style=white-space:pre-wrap>Male  </span>                          </td><td>1990                                                                    </td></tr>\n",
       "</tbody>\n",
       "</table>\n"
      ],
      "text/latex": [
       "\\begin{tabular}{r|lllllllll}\n",
       " X & Start.Time & End.Time & Trip.Duration & Start.Station & End.Station & User.Type & Gender & Birth.Year\\\\\n",
       "\\hline\n",
       "\t 1423854                         & 2017-06-23 15:09:32             & 2017-06-23 15:14:53             &  321                            & Wood St \\& Hubbard St          & Damen Ave \\& Chicago Ave       & Subscriber                      & Male                            & 1992                           \\\\\n",
       "\t  955915                        & 2017-05-25 18:19:03            & 2017-05-25 18:45:53            & 1610                           & Theater on the Lake            & Sheffield Ave \\& Waveland Ave & Subscriber                     & Female                         & 1992                          \\\\\n",
       "\t    9031                         & 2017-01-04 08:27:49             & 2017-01-04 08:34:45             &  416                            & May St \\& Taylor St            & Wood St \\& Taylor St           & Subscriber                      & Male                            & 1981                           \\\\\n",
       "\t  304487                         & 2017-03-06 13:49:38             & 2017-03-06 13:55:28             &  350                            & Christiana Ave \\& Lawrence Ave & St. Louis Ave \\& Balmoral Ave  & Subscriber                      & Male                            & 1986                           \\\\\n",
       "\t   45207                         & 2017-01-17 14:53:07             & 2017-01-17 15:02:01             &  534                            & Clark St \\& Randolph St        & Desplaines St \\& Jackson Blvd  & Subscriber                      & Male                            & 1975                           \\\\\n",
       "\t 1473887                         & 2017-06-26 09:01:20             & 2017-06-26 09:11:06             &  586                            & Clinton St \\& Washington Blvd  & Canal St \\& Taylor St          & Subscriber                      & Male                            & 1990                           \\\\\n",
       "\\end{tabular}\n"
      ],
      "text/markdown": [
       "\n",
       "| X | Start.Time | End.Time | Trip.Duration | Start.Station | End.Station | User.Type | Gender | Birth.Year |\n",
       "|---|---|---|---|---|---|---|---|---|\n",
       "| 1423854                       | 2017-06-23 15:09:32           | 2017-06-23 15:14:53           |  321                          | Wood St & Hubbard St          | Damen Ave & Chicago Ave       | Subscriber                    | Male                          | 1992                          |\n",
       "|  955915                       | 2017-05-25 18:19:03           | 2017-05-25 18:45:53           | 1610                          | Theater on the Lake           | Sheffield Ave & Waveland Ave  | Subscriber                    | Female                        | 1992                          |\n",
       "|    9031                       | 2017-01-04 08:27:49           | 2017-01-04 08:34:45           |  416                          | May St & Taylor St            | Wood St & Taylor St           | Subscriber                    | Male                          | 1981                          |\n",
       "|  304487                       | 2017-03-06 13:49:38           | 2017-03-06 13:55:28           |  350                          | Christiana Ave & Lawrence Ave | St. Louis Ave & Balmoral Ave  | Subscriber                    | Male                          | 1986                          |\n",
       "|   45207                       | 2017-01-17 14:53:07           | 2017-01-17 15:02:01           |  534                          | Clark St & Randolph St        | Desplaines St & Jackson Blvd  | Subscriber                    | Male                          | 1975                          |\n",
       "| 1473887                       | 2017-06-26 09:01:20           | 2017-06-26 09:11:06           |  586                          | Clinton St & Washington Blvd  | Canal St & Taylor St          | Subscriber                    | Male                          | 1990                          |\n",
       "\n"
      ],
      "text/plain": [
       "  X       Start.Time          End.Time            Trip.Duration\n",
       "1 1423854 2017-06-23 15:09:32 2017-06-23 15:14:53  321         \n",
       "2  955915 2017-05-25 18:19:03 2017-05-25 18:45:53 1610         \n",
       "3    9031 2017-01-04 08:27:49 2017-01-04 08:34:45  416         \n",
       "4  304487 2017-03-06 13:49:38 2017-03-06 13:55:28  350         \n",
       "5   45207 2017-01-17 14:53:07 2017-01-17 15:02:01  534         \n",
       "6 1473887 2017-06-26 09:01:20 2017-06-26 09:11:06  586         \n",
       "  Start.Station                 End.Station                  User.Type  Gender\n",
       "1 Wood St & Hubbard St          Damen Ave & Chicago Ave      Subscriber Male  \n",
       "2 Theater on the Lake           Sheffield Ave & Waveland Ave Subscriber Female\n",
       "3 May St & Taylor St            Wood St & Taylor St          Subscriber Male  \n",
       "4 Christiana Ave & Lawrence Ave St. Louis Ave & Balmoral Ave Subscriber Male  \n",
       "5 Clark St & Randolph St        Desplaines St & Jackson Blvd Subscriber Male  \n",
       "6 Clinton St & Washington Blvd  Canal St & Taylor St         Subscriber Male  \n",
       "  Birth.Year\n",
       "1 1992      \n",
       "2 1992      \n",
       "3 1981      \n",
       "4 1986      \n",
       "5 1975      \n",
       "6 1990      "
      ]
     },
     "metadata": {},
     "output_type": "display_data"
    }
   ],
   "source": [
    "head(chi)"
   ]
  },
  {
   "cell_type": "markdown",
   "metadata": {},
   "source": [
    "### Question 1\n",
    "\n",
    "\n",
    "**What is the most common month of travel in NYC?**"
   ]
  },
  {
   "cell_type": "code",
   "execution_count": 5,
   "metadata": {
    "collapsed": true
   },
   "outputs": [],
   "source": [
    "# Your solution code goes here\n",
    "#Adding new columns\n",
    "ny2 = transform(ny,Start.Year=as.numeric(substr(ny$Start.Time, 1, 4)))\n",
    "ny2 = transform(ny2,Start.Month=as.numeric(substr(ny$Start.Time, 6, 7)))\n",
    "ny2 = transform(ny2,Start.Day=as.numeric(substr(ny$Start.Time, 9, 10)))\n"
   ]
  },
  {
   "cell_type": "code",
   "execution_count": 6,
   "metadata": {},
   "outputs": [
    {
     "data": {
      "image/png": "[encoded data removed]",
      "text/plain": [
       "plot without title"
      ]
     },
     "metadata": {},
     "output_type": "display_data"
    }
   ],
   "source": [
    "#Creating the chart\n",
    "library(ggplot2)\n",
    "ggplot(aes(x=Start.Month), data=ny2) + \n",
    "  geom_histogram(binwidth=1,color = 'black', fill = '#F79420') +\n",
    "  scale_x_continuous(breaks=1:12) +\n",
    "  xlab('Number of Travels') +\n",
    "  ylab('Number of Travellers') +\n",
    "  ggtitle('Number of Travellers in the First Half of 2017')\n",
    "\n"
   ]
  },
  {
   "cell_type": "code",
   "execution_count": 7,
   "metadata": {},
   "outputs": [
    {
     "data": {
      "text/plain": [
       "\n",
       "    1     2     3     4     5     6 \n",
       " 5745  6364  5820 10661 12180 14000 "
      ]
     },
     "metadata": {},
     "output_type": "display_data"
    }
   ],
   "source": [
    "#Exact numbers\n",
    "table(ny2$Start.Month)"
   ]
  },
  {
   "cell_type": "code",
   "execution_count": 8,
   "metadata": {},
   "outputs": [
    {
     "data": {
      "text/html": [
       "14000"
      ],
      "text/latex": [
       "14000"
      ],
      "text/markdown": [
       "14000"
      ],
      "text/plain": [
       "[1] 14000"
      ]
     },
     "metadata": {},
     "output_type": "display_data"
    }
   ],
   "source": [
    "max(table(ny2$Start.Month))"
   ]
  },
  {
   "cell_type": "markdown",
   "metadata": {},
   "source": [
    "**Summary:**\n",
    "In New-York City the most common month of travel was June (in the first half year of 2017). There are 14000 travels registered in that month.\n",
    "\n",
    "In the bar chart above you can see the number of travellers for each month. It can be seen that the highest bar belongs to June.\n",
    "\n",
    "Also, we can notice that in the first three months the number of travels are significantly lower. Most probably because of the worse weather conditions (winter + early spring)."
   ]
  },
  {
   "cell_type": "markdown",
   "metadata": {},
   "source": [
    "### Question 2\n",
    "\n",
    "**What is the average travel time for users in different cities?**"
   ]
  },
  {
   "cell_type": "code",
   "execution_count": 9,
   "metadata": {
    "collapsed": true
   },
   "outputs": [],
   "source": [
    "# Your solution code goes here\n",
    "#Calculating the means and creating new data frame\n",
    "means = c(mean(ny$Trip.Duration,na.rm=TRUE),\n",
    "          mean(wash$Trip.Duration,na.rm=TRUE),\n",
    "          mean(chi$Trip.Duration,na.rm=TRUE))\n",
    "cities = c('New York','Washington','Chicago')\n",
    "means_df = data.frame(cities,means)\n"
   ]
  },
  {
   "cell_type": "code",
   "execution_count": 10,
   "metadata": {},
   "outputs": [
    {
     "data": {
      "image/png": "[encoded data removed]",
      "text/plain": [
       "plot without title"
      ]
     },
     "metadata": {},
     "output_type": "display_data"
    }
   ],
   "source": [
    "#Creating the chart\n",
    "library(ggplot2)\n",
    "ggplot(data=means_df)+ \n",
    "  geom_bar(mapping = aes(x = cities, y = means), stat = \"identity\", \n",
    "           color = 'black', fill = '#F79420')+\n",
    "  xlab('Cities') +\n",
    "  ylab('Average Travel Time (s)') +\n",
    "  ggtitle('Average Travel Time per City')\n"
   ]
  },
  {
   "cell_type": "code",
   "execution_count": 11,
   "metadata": {},
   "outputs": [
    {
     "name": "stdout",
     "output_type": "stream",
     "text": [
      "      cities     means\n",
      "1   New York  903.6147\n",
      "2 Washington 1233.9533\n",
      "3    Chicago  937.1728\n"
     ]
    }
   ],
   "source": [
    "#Printing out exact numbers\n",
    "print(means_df)"
   ]
  },
  {
   "cell_type": "markdown",
   "metadata": {},
   "source": [
    "**Summary:**\n",
    "\n",
    "The average travel time is ~903 seconds in New York, ~937 seconds in Chicago and ~1233 seconds in Washington. The same can be seen on the bar chart above.\n",
    "\n",
    "Interestingly in Washington the cyclers use the bycicle 25% longer. One possible reason is that the distance are bigger, because there are less sky-scrapers in Washington.\n",
    "\n"
   ]
  },
  {
   "cell_type": "markdown",
   "metadata": {},
   "source": [
    "### Question 3\n",
    "\n",
    "**What are the counts of each user type per city?**"
   ]
  },
  {
   "cell_type": "code",
   "execution_count": 12,
   "metadata": {
    "collapsed": true
   },
   "outputs": [],
   "source": [
    "# Your solution code goes here\n",
    "# Creating a new data frame containing all the three cities\n",
    "ny = transform(ny,City='New York')\n",
    "chi = transform(chi, City='Chicago')\n",
    "wash = transform(wash, City='Washington')\n",
    "wash$Gender = NA\n",
    "wash$Birth.Year = NA\n",
    "cities = rbind(ny,chi,wash)\n"
   ]
  },
  {
   "cell_type": "code",
   "execution_count": 13,
   "metadata": {},
   "outputs": [
    {
     "data": {
      "image/png": "[encoded data removed]",
      "text/plain": [
       "plot without title"
      ]
     },
     "metadata": {},
     "output_type": "display_data"
    }
   ],
   "source": [
    "# Creating the chart\n",
    "library(ggplot2)\n",
    "ggplot(data=subset(cities,User.Type!=\"\"))+ \n",
    "  geom_bar(mapping = aes(x = User.Type, fill = City), \n",
    "           color='black', position = \"dodge\")+\n",
    "  xlab('User Type') +\n",
    "  ylab('Count') +\n",
    "  ggtitle('Counts of each User Type')\n"
   ]
  },
  {
   "cell_type": "code",
   "execution_count": 14,
   "metadata": {},
   "outputs": [
    {
     "data": {
      "text/html": [
       "'New York:'"
      ],
      "text/latex": [
       "'New York:'"
      ],
      "text/markdown": [
       "'New York:'"
      ],
      "text/plain": [
       "[1] \"New York:\""
      ]
     },
     "metadata": {},
     "output_type": "display_data"
    },
    {
     "data": {
      "text/plain": [
       "\n",
       "  Customer Subscriber \n",
       "      5558      49093 "
      ]
     },
     "metadata": {},
     "output_type": "display_data"
    },
    {
     "data": {
      "text/html": [
       "'Chicago:'"
      ],
      "text/latex": [
       "'Chicago:'"
      ],
      "text/markdown": [
       "'Chicago:'"
      ],
      "text/plain": [
       "[1] \"Chicago:\""
      ]
     },
     "metadata": {},
     "output_type": "display_data"
    },
    {
     "data": {
      "text/plain": [
       "\n",
       "  Customer Subscriber \n",
       "      1746       6883 "
      ]
     },
     "metadata": {},
     "output_type": "display_data"
    },
    {
     "data": {
      "text/html": [
       "'Washington:'"
      ],
      "text/latex": [
       "'Washington:'"
      ],
      "text/markdown": [
       "'Washington:'"
      ],
      "text/plain": [
       "[1] \"Washington:\""
      ]
     },
     "metadata": {},
     "output_type": "display_data"
    },
    {
     "data": {
      "text/plain": [
       "\n",
       "  Customer Subscriber \n",
       "     23450      65600 "
      ]
     },
     "metadata": {},
     "output_type": "display_data"
    }
   ],
   "source": [
    "#The exact numbers\n",
    "\"New York:\"\n",
    "table(subset(ny,User.Type!='')$User.Type)[2:3]\n",
    "\"Chicago:\"\n",
    "table(subset(chi,User.Type!='')$User.Type)[2:3]\n",
    "\"Washington:\"\n",
    "table(subset(wash,User.Type!='')$User.Type)[2:3]"
   ]
  },
  {
   "cell_type": "markdown",
   "metadata": {},
   "source": [
    "**Summary:**\n",
    "The answer:\n",
    "* New York: 5558 Customers, 49093 Subscribers\n",
    "* Chicago: 1746 Customers, 6883 Subscribers\n",
    "* Washington: 23450 Customers, 65600 Subscribers\n",
    "\n",
    "We can see that in each city there are significantly more Subscribers than Customers. However the ratio varies from ~11% (NY) through ~25% (CHI) to ~35% (WASH). "
   ]
  },
  {
   "cell_type": "markdown",
   "metadata": {},
   "source": [
    "\n",
    "## Finishing Up\n",
    "\n",
    "> Congratulations!  You have reached the end of the Explore Bikeshare Data Project. You should be very proud of all you have accomplished!\n",
    "\n",
    "> **Tip**: Once you are satisfied with your work here, check over your report to make sure that it is satisfies all the areas of the [rubric](https://review.udacity.com/#!/rubrics/2508/view). \n",
    "\n",
    "\n",
    "## Directions to Submit\n",
    "\n",
    "> Before you submit your project, you need to create a .html or .pdf version of this notebook in the workspace here. To do that, run the code cell below. If it worked correctly, you should get a return code of 0, and you should see the generated .html file in the workspace directory (click on the orange Jupyter icon in the upper left).\n",
    "\n",
    "> Alternatively, you can download this report as .html via the **File** > **Download as** submenu, and then manually upload it into the workspace directory by clicking on the orange Jupyter icon in the upper left, then using the Upload button.\n",
    "\n",
    "> Once you've done this, you can submit your project by clicking on the \"Submit Project\" button in the lower right here. This will create and submit a zip file with this .ipynb doc and the .html or .pdf version you created. Congratulations!"
   ]
  },
  {
   "cell_type": "code",
   "execution_count": 15,
   "metadata": {
    "collapsed": true
   },
   "outputs": [],
   "source": [
    "system('python -m nbconvert Explore_bikeshare_data.ipynb')"
   ]
  },
  {
   "cell_type": "code",
   "execution_count": null,
   "metadata": {
    "collapsed": true
   },
   "outputs": [],
   "source": []
  }
 ],
 "metadata": {
  "kernelspec": {
   "display_name": "R",
   "language": "R",
   "name": "ir"
  },
  "language_info": {
   "codemirror_mode": "r",
   "file_extension": ".r",
   "mimetype": "text/x-r-source",
   "name": "R",
   "pygments_lexer": "r",
   "version": "3.5.1"
  }
 },
 "nbformat": 4,
 "nbformat_minor": 2
}
